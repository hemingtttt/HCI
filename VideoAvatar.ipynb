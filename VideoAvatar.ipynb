{
 "cells": [
  {
   "cell_type": "code",
   "execution_count": null,
   "id": "e42fcebb",
   "metadata": {},
   "outputs": [],
   "source": [
    "import cv2\n",
    "import mediapipe as mp\n",
    "import numpy as np\n",
    "import socket\n",
    "\n",
    "# === 配置 ===\n",
    "TCP_IP = \"127.0.0.1\"\n",
    "TCP_PORT = 12000\n",
    "BG_COLOR = (0, 0, 0, 0)  # 透明黑背景\n",
    "\n",
    "# === MediaPipe 初始化 ===\n",
    "mp_selfie = mp.solutions.selfie_segmentation\n",
    "\n",
    "# === 摄像头与模型 ===\n",
    "cap = cv2.VideoCapture(0)\n",
    "with mp_selfie.SelfieSegmentation(model_selection=1) as segmenter:\n",
    "    bg_image = None\n",
    "\n",
    "    while cap.isOpened():\n",
    "        # 读取并预处理图像\n",
    "        success, frame = cap.read()\n",
    "        if not success:\n",
    "            continue\n",
    "        frame = cv2.cvtColor(cv2.flip(frame, 1), cv2.COLOR_BGR2RGB)\n",
    "        frame.flags.writeable = False\n",
    "\n",
    "        # 人像分割\n",
    "        results = segmenter.process(frame)\n",
    "\n",
    "        # 恢复图像写权限，并转回 BGRA\n",
    "        frame.flags.writeable = True\n",
    "        frame = cv2.cvtColor(frame, cv2.COLOR_RGB2BGRA)\n",
    "\n",
    "        # 初始化透明背景\n",
    "        if bg_image is None:\n",
    "            bg_image = np.zeros(frame.shape, dtype=np.uint8)\n",
    "            bg_image[:] = BG_COLOR\n",
    "\n",
    "        # 根据分割结果合成前景与背景\n",
    "        mask = (results.segmentation_mask > 0.1)\n",
    "        mask = np.stack((mask,)*4, axis=-1)\n",
    "        output = np.where(mask, frame, bg_image)\n",
    "\n",
    "        # 显示用于调试（可删除）\n",
    "        cv2.imshow('Segmentation', output)\n",
    "\n",
    "        # 将图像编码为 PNG 并通过 TCP 发送\n",
    "        _, buf = cv2.imencode('.png', output, [cv2.IMWRITE_PNG_COMPRESSION, 0])\n",
    "        data = buf.tobytes()\n",
    "        with socket.socket() as sock:\n",
    "            sock.connect((TCP_IP, TCP_PORT))\n",
    "            sock.sendall(data)\n",
    "\n",
    "        if cv2.waitKey(5) & 0xFF == 27:\n",
    "            break\n",
    "\n",
    "cap.release()\n",
    "cv2.destroyAllWindows()\n",
    "\n",
    "\n",
    "'''\n",
    "这段代码实现了一个实时人像分割与透明背景传输系统：\n",
    "\n",
    "通过摄像头捕获视频流\n",
    "使用 MediaPipe 的自拍分割模型进行前景 / 背景分离\n",
    "将背景替换为透明色（RGBA 格式）并合成新图像\n",
    "将处理后的图像编码为 PNG 格式\n",
    "通过 TCP 套接字将图像数据发送到Unity\n",
    "提供可视化界面，实时显示分割效果\n",
    "'''"
   ]
  },
  {
   "cell_type": "code",
   "execution_count": null,
   "id": "f3c7e48b",
   "metadata": {},
   "outputs": [],
   "source": [
    "pip install mediapipe --user"
   ]
  },
  {
   "cell_type": "code",
   "execution_count": null,
   "id": "1ac2ac11",
   "metadata": {},
   "outputs": [],
   "source": [
    "pip install opencv-python --user"
   ]
  }
 ],
 "metadata": {
  "kernelspec": {
   "display_name": "base",
   "language": "python",
   "name": "python3"
  },
  "language_info": {
   "codemirror_mode": {
    "name": "ipython",
    "version": 3
   },
   "file_extension": ".py",
   "mimetype": "text/x-python",
   "name": "python",
   "nbconvert_exporter": "python",
   "pygments_lexer": "ipython3",
   "version": "3.12.7"
  }
 },
 "nbformat": 4,
 "nbformat_minor": 5
}
