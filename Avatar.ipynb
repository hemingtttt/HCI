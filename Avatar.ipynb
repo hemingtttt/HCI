{
 "cells": [
  {
   "cell_type": "code",
   "execution_count": null,
   "metadata": {},
   "outputs": [
    {
     "name": "stdout",
     "output_type": "stream",
     "text": [
      "An error occured.\n",
      "An error occured.\n",
      "An error occured.\n",
      "An error occured.\n",
      "An error occured.\n",
      "An error occured.\n",
      "An error occured.\n",
      "An error occured.\n",
      "An error occured.\n",
      "An error occured.\n",
      "An error occured.\n",
      "An error occured.\n"
     ]
    }
   ],
   "source": [
    "import cv2\n",
    "import mediapipe as mp\n",
    "import socket\n",
    "mp_drawing = mp.solutions.drawing_utils #初始化了MediaPipe 的绘图工具包，包括绘制关键点，绘制连接线 \n",
    "mp_drawing_styles = mp.solutions.drawing_styles #初始化了绘图样式工具包，包括姿态检测样式，手部检测样式，面部检测样式 \n",
    "mp_pose = mp.solutions.pose #初始化了 MediaPipe 的姿态检测模型，包括人体姿态检测，33 个关键点，世界坐标，归一化坐标 \n",
    "TCP_IP = \"127.0.0.1\" # 指定目标设备的 IP 地址，在开发和测试阶段，用于在同一台计算机上运行的 Python 程序和 Unity 应用之间通信 \n",
    "TCP_PORT = 12000 #指定目标端口号，确保数据被发送到 Unity 应用监听的特定端口 \n",
    "MESSAGE = b\"Hello, Unity Again!\"\n",
    "\n",
    "# For webcam input:\n",
    "cap = cv2.VideoCapture(0)\n",
    "with mp_pose.Pose(\n",
    "    min_detection_confidence=0.5,\n",
    "    min_tracking_confidence=0.5) as pose:\n",
    "  while cap.isOpened():\n",
    "    success, image = cap.read()\n",
    "    if not success:\n",
    "      print(\"Ignoring empty camera frame.\")\n",
    "      # If loading a video, use 'break' instead of 'continue'.\n",
    "      continue\n",
    "\n",
    "\n",
    "    image.flags.writeable = False\n",
    "    image = cv2.cvtColor(image, cv2.COLOR_BGR2RGB)\n",
    "    results = pose.process(image)\n",
    "\n",
    "    # Draw the pose annotation on the image.\n",
    "    image.flags.writeable = True\n",
    "    image = cv2.cvtColor(image, cv2.COLOR_RGB2BGR)\n",
    "    mp_drawing.draw_landmarks(\n",
    "        image,\n",
    "        results.pose_landmarks,\n",
    "        mp_pose.POSE_CONNECTIONS,\n",
    "        landmark_drawing_spec=mp_drawing_styles.get_default_pose_landmarks_style())\n",
    "    # Flip the image horizontally for a selfie-view display.\n",
    "    cv2.imshow('MediaPipe Pose', cv2.flip(image, 1))\n",
    "    try:\n",
    "      Nose=results.pose_world_landmarks.landmark[0]\n",
    "      LeftWrist=results.pose_world_landmarks.landmark[15]\n",
    "      RightWrist=results.pose_world_landmarks.landmark[16]\n",
    "      LeftIndex=results.pose_world_landmarks.landmark[19]\n",
    "      RightIndex=results.pose_world_landmarks.landmark[20]\n",
    "      MSGPose=[Nose, LeftWrist, RightWrist, LeftIndex, RightIndex]\n",
    "      PoseString=''\n",
    "      for joint in MSGPose:\n",
    "        PoseString=PoseString+str(joint.x)+','+str(joint.y)+','+str(joint.z)+';'\n",
    "      sock = socket.socket()\n",
    "      sock.connect((TCP_IP, TCP_PORT))\n",
    "      sock.send(PoseString.encode('utf-8'))\n",
    "      sock.close()\n",
    "    except:\n",
    "      print('An error occured.')\n",
    "    if cv2.waitKey(5) & 0xFF == 27:\n",
    "      break\n",
    "cap.release()\n",
    "sock.close()\n",
    "cv2.destroyAllWindows()"
   ]
  },
  {
   "cell_type": "code",
   "execution_count": 2,
   "metadata": {},
   "outputs": [
    {
     "name": "stdout",
     "output_type": "stream",
     "text": [
      "b'1.0,2.0,3.0;4.0,5.0,6.0'\n"
     ]
    }
   ],
   "source": [
    "# import string\n",
    "mystring=str(1.0)+','+str(2.0)+','+str(3.0)+';'+str(4.0)+','+str(5.0)+','+str(6.0)\n",
    "print(mystring.encode('utf-8'))\n",
    "# print(string.encode(str))"
   ]
  }
 ],
 "metadata": {
  "kernelspec": {
   "display_name": "Python 3",
   "language": "python",
   "name": "python3"
  },
  "language_info": {
   "codemirror_mode": {
    "name": "ipython",
    "version": 3
   },
   "file_extension": ".py",
   "mimetype": "text/x-python",
   "name": "python",
   "nbconvert_exporter": "python",
   "pygments_lexer": "ipython3",
   "version": "3.11.11"
  },
  "orig_nbformat": 4
 },
 "nbformat": 4,
 "nbformat_minor": 2
}
